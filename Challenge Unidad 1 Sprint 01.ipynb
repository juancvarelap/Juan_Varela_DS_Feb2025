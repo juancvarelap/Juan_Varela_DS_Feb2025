{
 "cells": [
  {
   "cell_type": "markdown",
   "id": "76166a8e-d8df-417a-b9aa-8627b5f3d865",
   "metadata": {},
   "source": [
    "### Ejercicio 1\n",
    "\n",
    "**Lo más importante**\r\n",
    "\r\n",
    "- Matemáticas\r\n",
    "- Python\r\n",
    "- SQL\r\n",
    "\r\n",
    "[Logo Python](C:\\Users\\jvare\\OneDrive\\Desktop\\DS_Feb2025_Juan\\Juan_Varela_DS_Feb2025\\01_Programacion_basica_y_Ramp-Up\\Sprint_01\\Unidad_01\\Practica_Obligatoria\\img\\python.png)\r\n",
    "\r\n",
    "Otro tema importante es el de *Business Intelligence*\r\n",
    "\r\n",
    "Si tienes dudas puedes escribirme a: [alberto.romero@thebridgeschool.es](alberto.romero@thebridgeschool.es)\r\n",
    "\r\n",
    "Y en esta página se aprende mucho de machine learning: [Machine Learning](https://www.iberdrola.com/innovacion/machine-learning-aprendizaje-automatico)"
   ]
  },
  {
   "cell_type": "markdown",
   "id": "2e2da766-984f-4ab5-8bc3-1012c8c74450",
   "metadata": {},
   "source": [
    "### Ejercicio 2"
   ]
  },
  {
   "cell_type": "markdown",
   "id": "d2824d4a-cec2-479f-89e7-4a29ff3d6f22",
   "metadata": {},
   "source": [
    "| Ramp Up   | Data Analysis | Machine Learning  | Data & Business  |\r\n",
    "|-----------|--------------|-------------------|------------------|\r\n",
    "| Python    | EDA          | Supervised        | Productivización |\r\n",
    "| Estadística | R          | Non Supervised    | Storytelling     |\r\n",
    "| SQL       | Feat. Eng    | Deep Learning     | API              |\r\n",
    "\r\n"
   ]
  },
  {
   "cell_type": "markdown",
   "id": "ab52809e-bf11-4c4b-baf1-bcacca93d5e5",
   "metadata": {},
   "source": [
    "$$\n",
    "y = \\sqrt{3x - 1} + (1+x)^2\n",
    "$$"
   ]
  },
  {
   "cell_type": "code",
   "execution_count": null,
   "id": "219a68ce-8b12-4c75-a6af-f1d1012e05e6",
   "metadata": {},
   "outputs": [],
   "source": []
  }
 ],
 "metadata": {
  "kernelspec": {
   "display_name": "",
   "name": ""
  },
  "language_info": {
   "name": ""
  }
 },
 "nbformat": 4,
 "nbformat_minor": 5
}
